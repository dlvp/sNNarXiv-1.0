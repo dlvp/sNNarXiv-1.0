{
 "cells": [
  {
   "cell_type": "code",
   "execution_count": 1,
   "metadata": {
    "collapsed": true
   },
   "outputs": [],
   "source": [
    "# -*- coding: utf-8 -*-\n",
    "#%matplotlib inline\n",
    "\n",
    "import pylab\n",
    "\n",
    "import xml.etree.ElementTree as ET\n",
    "import json\n",
    "import os\n",
    "import pandas as pd\n",
    "import re\n",
    "import numpy as np\n",
    "\n",
    "import matplotlib\n",
    "\n",
    "import matplotlib.pyplot as plt\n",
    "import seaborn as sns\n",
    "\n",
    "plt.style.use('seaborn-white')\n",
    "\n",
    "pylab.ion()"
   ]
  },
  {
   "cell_type": "code",
   "execution_count": 2,
   "metadata": {
    "collapsed": true
   },
   "outputs": [],
   "source": [
    "df=pd.read_json('inspire.json') #Change this to the name of the file, inspire_small.json on GitHub\n",
    "data=df.copy()"
   ]
  },
  {
   "cell_type": "code",
   "execution_count": 3,
   "metadata": {},
   "outputs": [
    {
     "data": {
      "text/html": [
       "<div>\n",
       "<style>\n",
       "    .dataframe thead tr:only-child th {\n",
       "        text-align: right;\n",
       "    }\n",
       "\n",
       "    .dataframe thead th {\n",
       "        text-align: left;\n",
       "    }\n",
       "\n",
       "    .dataframe tbody tr th {\n",
       "        vertical-align: top;\n",
       "    }\n",
       "</style>\n",
       "<table border=\"1\" class=\"dataframe\">\n",
       "  <thead>\n",
       "    <tr style=\"text-align: right;\">\n",
       "      <th></th>\n",
       "      <th>abs1</th>\n",
       "      <th>cat0</th>\n",
       "      <th>cat1</th>\n",
       "      <th>cat2</th>\n",
       "      <th>key1</th>\n",
       "      <th>key2</th>\n",
       "      <th>title</th>\n",
       "    </tr>\n",
       "  </thead>\n",
       "  <tbody>\n",
       "    <tr>\n",
       "      <th>0</th>\n",
       "      <td>The original Schrodinger's paper is translated...</td>\n",
       "      <td>arXiv</td>\n",
       "      <td>quant-ph/9903100</td>\n",
       "      <td>quant-ph</td>\n",
       "      <td>oai:arXiv.org:quant-ph/9903100</td>\n",
       "      <td>arXiv</td>\n",
       "      <td>About Heisenberg uncertainty relation</td>\n",
       "    </tr>\n",
       "  </tbody>\n",
       "</table>\n",
       "</div>"
      ],
      "text/plain": [
       "                                                abs1   cat0              cat1  \\\n",
       "0  The original Schrodinger's paper is translated...  arXiv  quant-ph/9903100   \n",
       "\n",
       "       cat2                            key1   key2  \\\n",
       "0  quant-ph  oai:arXiv.org:quant-ph/9903100  arXiv   \n",
       "\n",
       "                                   title  \n",
       "0  About Heisenberg uncertainty relation  "
      ]
     },
     "execution_count": 3,
     "metadata": {},
     "output_type": "execute_result"
    }
   ],
   "source": [
    "data.head(1)"
   ]
  },
  {
   "cell_type": "markdown",
   "metadata": {},
   "source": [
    "I select hep-th as the target for the generation as I believe it will lead to a better outcome: hep-th contains more jargon than other arXiv categories."
   ]
  },
  {
   "cell_type": "code",
   "execution_count": 4,
   "metadata": {
    "collapsed": true
   },
   "outputs": [],
   "source": [
    "data_ph=data[data['cat2']=='hep-th']"
   ]
  },
  {
   "cell_type": "markdown",
   "metadata": {},
   "source": [
    "<h1> Abstracts </h1>"
   ]
  },
  {
   "cell_type": "markdown",
   "metadata": {},
   "source": [
    "In order to make the generation simpler I remove text in parethesis, and replace text contained between two '\\$' signs by the special string 'xxxxx'. In LateX, text contained between '\\$' is typically a formula. Trying to train the NN on formula would probably lead to awful results and in any case I don't aim to sensible physical abstract. So I will put the formulas back later."
   ]
  },
  {
   "cell_type": "code",
   "execution_count": 5,
   "metadata": {
    "collapsed": true
   },
   "outputs": [],
   "source": [
    "abs_ph=data_ph['abs1'].tolist()\n",
    "abs_ph=[re.sub('\\(.*?\\)','',abstract, flags=re.DOTALL) for abstract in abs_ph]\n",
    "abs_ph=[re.sub('\\$.*?\\$','xxxxx',abstract, flags=re.DOTALL) for abstract in abs_ph]\n",
    "abs_ph=[abstract.replace(u\"\\u2018\", \"\").replace(u\"\\u2019\", \"\").replace(u\"\\u201c\", \"\").replace(u\"\\u201d\", \"\")\\\n",
    "        .replace(u\"\\\"\", \"\").replace(u\"- \", \"\") for abstract in abs_ph]\n",
    "abs_ph_wordified=[abstract.split() for abstract in abs_ph]"
   ]
  },
  {
   "cell_type": "code",
   "execution_count": 6,
   "metadata": {
    "collapsed": true
   },
   "outputs": [],
   "source": [
    "good_char=u'0123456789qwertyuiopasdfghjklzxcvbnmQWERTYUIOPLKJHGFDSAZXCVBNM,.!?;:-‘’\"/'\n",
    "set_good_char=set(good_char)\n",
    "set_good_char.update([u'\\u201c',u'\\u201d'])"
   ]
  },
  {
   "cell_type": "markdown",
   "metadata": {},
   "source": [
    "I put the whole text in lower cases. Sometimes authors just put formula in plain text. So I look for words which contains exotic characters and replace them with the special string 'xxxxx'."
   ]
  },
  {
   "cell_type": "code",
   "execution_count": 7,
   "metadata": {
    "collapsed": true
   },
   "outputs": [],
   "source": [
    "def abs_filter(abstract): #abs is a list of words\n",
    "    abstract = [word.lower() if set(word).intersection(good_char)==set(word) else 'xxxxx' for word in abstract]\n",
    "    abstract = ' '.join(abstract)\n",
    "    abstract= re.findall(r\"[\\w']+|[.,!?;:/]\", abstract)\n",
    "    return abstract"
   ]
  },
  {
   "cell_type": "code",
   "execution_count": 8,
   "metadata": {
    "collapsed": true
   },
   "outputs": [],
   "source": [
    "abs_ph_words = [abs_filter(abstract) for abstract in abs_ph_wordified]\n",
    "abs_ph_words_good = [word for abstract in abs_ph_words for word in abstract] #lower case"
   ]
  },
  {
   "cell_type": "markdown",
   "metadata": {},
   "source": [
    "Remove abstracts with rare words (appearing less than 5 times) and weird numbers (sorry, this is done a posteriori after i know that iloc[5:2985] contains very long string of numbers with no clear meaning. just modify the code appropriately."
   ]
  },
  {
   "cell_type": "code",
   "execution_count": 9,
   "metadata": {},
   "outputs": [
    {
     "name": "stdout",
     "output_type": "stream",
     "text": [
      "Number of abstracts:  77984 \n",
      "Unique words:  37170\n"
     ]
    }
   ],
   "source": [
    "from collections import Counter\n",
    "\n",
    "word_count=Counter(abs_ph_words_good)\n",
    "#\n",
    "print 'Number of abstracts: ', len(abs_ph), '\\nUnique words: ' , len(word_count)\n",
    "#\n",
    "word_count_series=pd.Series(word_count)\n",
    "df_word_count=pd.DataFrame({'word':word_count_series.index,'count':word_count_series.values})\n",
    "#\n",
    "words4=df_word_count[df_word_count['count']<5]['word'].tolist()\n",
    "list_nums=df_word_count['word'].iloc[5:2985].tolist()\n",
    "rare_words=set(list_nums+words4)"
   ]
  },
  {
   "cell_type": "markdown",
   "metadata": {},
   "source": [
    "Special character '#' is added at the end of abstract."
   ]
  },
  {
   "cell_type": "code",
   "execution_count": 10,
   "metadata": {},
   "outputs": [
    {
     "name": "stdout",
     "output_type": "stream",
     "text": [
      "Number of filtered abstracts:  44668\n"
     ]
    }
   ],
   "source": [
    "abs_ph_filtered = [abstract for abstract in abs_ph_words if set(abstract).intersection(rare_words)==set()]\n",
    "abs_ph_filtered_joined = [' '.join(abstract)+' #' for abstract in abs_ph_filtered]\n",
    "abs_ph_filtered= [abstract.split() for abstract in abs_ph_filtered_joined]\n",
    "datawords = [word for sublist in abs_ph_filtered for word in sublist] \n",
    "print 'Number of filtered abstracts: ', len(abs_ph_filtered)"
   ]
  },
  {
   "cell_type": "code",
   "execution_count": 11,
   "metadata": {},
   "outputs": [
    {
     "name": "stdout",
     "output_type": "stream",
     "text": [
      "Number of distinct words:  12885\n"
     ]
    }
   ],
   "source": [
    "words_unique = [word for abstract in abs_ph_filtered for word in abstract]\n",
    "words_unique = set(words_unique)\n",
    "print 'Number of distinct words: ', len(words_unique)"
   ]
  },
  {
   "cell_type": "markdown",
   "metadata": {
    "collapsed": true
   },
   "source": [
    "The file 'text8_abstract' contains all the preprocessed abstracts. It will be fed to GloVe to create word embedding and to the RNN to train"
   ]
  },
  {
   "cell_type": "code",
   "execution_count": 50,
   "metadata": {
    "collapsed": true
   },
   "outputs": [],
   "source": [
    "thefile = open('text8_abstract', 'w')\n",
    "for item in datawords:\n",
    "    thefile.write(\"%s \" % item)\n",
    "the_file.close()"
   ]
  },
  {
   "cell_type": "code",
   "execution_count": 38,
   "metadata": {
    "collapsed": true
   },
   "outputs": [],
   "source": [
    "vocab = words_unique\n",
    "vocab_size = len(vocab)\n",
    "idx_to_vocab = dict(enumerate(vocab))\n",
    "vocab_to_idx = dict(zip(idx_to_vocab.values(), idx_to_vocab.keys()))"
   ]
  },
  {
   "cell_type": "markdown",
   "metadata": {},
   "source": [
    "<h1> Extract formulas </h1>"
   ]
  },
  {
   "cell_type": "code",
   "execution_count": 12,
   "metadata": {
    "collapsed": true
   },
   "outputs": [],
   "source": [
    "abs_ph_formulae=data_ph['abs1'].tolist()\n",
    "abs_ph_formulae = [re.findall(r'\\$(.*?)\\$', abstract) for abstract in abs_ph_formulae]\n",
    "abs_ph_formulae= [formula for sublist in abs_ph_formulae for formula in sublist]"
   ]
  },
  {
   "cell_type": "code",
   "execution_count": 13,
   "metadata": {
    "collapsed": true
   },
   "outputs": [],
   "source": [
    "formula_count=Counter(abs_ph_formulae)"
   ]
  },
  {
   "cell_type": "code",
   "execution_count": 67,
   "metadata": {
    "collapsed": true
   },
   "outputs": [],
   "source": [
    "formula_count_series=pd.Series(formula_count)\n",
    "df_formula_count=pd.DataFrame({'formula':formula_count_series.index,'count':formula_count_series.values})\n",
    "df_formula=df_formula_count[(df_formula_count['count']>10)&(df_formula_count['count']!=67)]"
   ]
  },
  {
   "cell_type": "code",
   "execution_count": 68,
   "metadata": {},
   "outputs": [
    {
     "data": {
      "text/html": [
       "<div>\n",
       "<style>\n",
       "    .dataframe thead tr:only-child th {\n",
       "        text-align: right;\n",
       "    }\n",
       "\n",
       "    .dataframe thead th {\n",
       "        text-align: left;\n",
       "    }\n",
       "\n",
       "    .dataframe tbody tr th {\n",
       "        vertical-align: top;\n",
       "    }\n",
       "</style>\n",
       "<table border=\"1\" class=\"dataframe\">\n",
       "  <thead>\n",
       "    <tr style=\"text-align: right;\">\n",
       "      <th></th>\n",
       "      <th>count</th>\n",
       "      <th>formula</th>\n",
       "    </tr>\n",
       "  </thead>\n",
       "  <tbody>\n",
       "    <tr>\n",
       "      <th>7691</th>\n",
       "      <td>1706</td>\n",
       "      <td>N</td>\n",
       "    </tr>\n",
       "    <tr>\n",
       "      <th>24081</th>\n",
       "      <td>778</td>\n",
       "      <td>p</td>\n",
       "    </tr>\n",
       "    <tr>\n",
       "      <th>23642</th>\n",
       "      <td>717</td>\n",
       "      <td>n</td>\n",
       "    </tr>\n",
       "    <tr>\n",
       "      <th>7837</th>\n",
       "      <td>650</td>\n",
       "      <td>N=2</td>\n",
       "    </tr>\n",
       "    <tr>\n",
       "      <th>24407</th>\n",
       "      <td>613</td>\n",
       "      <td>q</td>\n",
       "    </tr>\n",
       "    <tr>\n",
       "      <th>5156</th>\n",
       "      <td>544</td>\n",
       "      <td>D</td>\n",
       "    </tr>\n",
       "    <tr>\n",
       "      <th>19448</th>\n",
       "      <td>534</td>\n",
       "      <td>\\theta</td>\n",
       "    </tr>\n",
       "    <tr>\n",
       "      <th>7247</th>\n",
       "      <td>440</td>\n",
       "      <td>M</td>\n",
       "    </tr>\n",
       "    <tr>\n",
       "      <th>16427</th>\n",
       "      <td>431</td>\n",
       "      <td>\\kappa</td>\n",
       "    </tr>\n",
       "    <tr>\n",
       "      <th>9286</th>\n",
       "      <td>415</td>\n",
       "      <td>S</td>\n",
       "    </tr>\n",
       "    <tr>\n",
       "      <th>8862</th>\n",
       "      <td>409</td>\n",
       "      <td>R</td>\n",
       "    </tr>\n",
       "    <tr>\n",
       "      <th>21585</th>\n",
       "      <td>401</td>\n",
       "      <td>d</td>\n",
       "    </tr>\n",
       "    <tr>\n",
       "      <th>14708</th>\n",
       "      <td>395</td>\n",
       "      <td>\\beta</td>\n",
       "    </tr>\n",
       "    <tr>\n",
       "      <th>22897</th>\n",
       "      <td>372</td>\n",
       "      <td>k</td>\n",
       "    </tr>\n",
       "    <tr>\n",
       "      <th>18932</th>\n",
       "      <td>362</td>\n",
       "      <td>\\sigma</td>\n",
       "    </tr>\n",
       "    <tr>\n",
       "      <th>6154</th>\n",
       "      <td>359</td>\n",
       "      <td>G</td>\n",
       "    </tr>\n",
       "    <tr>\n",
       "      <th>14249</th>\n",
       "      <td>337</td>\n",
       "      <td>\\alpha</td>\n",
       "    </tr>\n",
       "    <tr>\n",
       "      <th>495</th>\n",
       "      <td>319</td>\n",
       "      <td>\\mathcal{N}</td>\n",
       "    </tr>\n",
       "    <tr>\n",
       "      <th>10825</th>\n",
       "      <td>299</td>\n",
       "      <td>T</td>\n",
       "    </tr>\n",
       "    <tr>\n",
       "      <th>11382</th>\n",
       "      <td>297</td>\n",
       "      <td>U(1)</td>\n",
       "    </tr>\n",
       "    <tr>\n",
       "      <th>16527</th>\n",
       "      <td>295</td>\n",
       "      <td>\\lambda</td>\n",
       "    </tr>\n",
       "    <tr>\n",
       "      <th>9913</th>\n",
       "      <td>288</td>\n",
       "      <td>SU(2)</td>\n",
       "    </tr>\n",
       "    <tr>\n",
       "      <th>7804</th>\n",
       "      <td>277</td>\n",
       "      <td>N=1</td>\n",
       "    </tr>\n",
       "    <tr>\n",
       "      <th>26592</th>\n",
       "      <td>271</td>\n",
       "      <td>{\\cal N}=4</td>\n",
       "    </tr>\n",
       "    <tr>\n",
       "      <th>13421</th>\n",
       "      <td>258</td>\n",
       "      <td>\\Lambda</td>\n",
       "    </tr>\n",
       "    <tr>\n",
       "      <th>20645</th>\n",
       "      <td>258</td>\n",
       "      <td>_{3}</td>\n",
       "    </tr>\n",
       "    <tr>\n",
       "      <th>12143</th>\n",
       "      <td>257</td>\n",
       "      <td>W</td>\n",
       "    </tr>\n",
       "    <tr>\n",
       "      <th>22303</th>\n",
       "      <td>256</td>\n",
       "      <td>g</td>\n",
       "    </tr>\n",
       "    <tr>\n",
       "      <th>18374</th>\n",
       "      <td>249</td>\n",
       "      <td>\\phi</td>\n",
       "    </tr>\n",
       "    <tr>\n",
       "      <th>20369</th>\n",
       "      <td>249</td>\n",
       "      <td>^{2}</td>\n",
       "    </tr>\n",
       "    <tr>\n",
       "      <th>...</th>\n",
       "      <td>...</td>\n",
       "      <td>...</td>\n",
       "    </tr>\n",
       "    <tr>\n",
       "      <th>6096</th>\n",
       "      <td>11</td>\n",
       "      <td>F_g</td>\n",
       "    </tr>\n",
       "    <tr>\n",
       "      <th>5576</th>\n",
       "      <td>11</td>\n",
       "      <td>D_2</td>\n",
       "    </tr>\n",
       "    <tr>\n",
       "      <th>5459</th>\n",
       "      <td>11</td>\n",
       "      <td>D&gt;2</td>\n",
       "    </tr>\n",
       "    <tr>\n",
       "      <th>5373</th>\n",
       "      <td>11</td>\n",
       "      <td>D=2n</td>\n",
       "    </tr>\n",
       "    <tr>\n",
       "      <th>4789</th>\n",
       "      <td>11</td>\n",
       "      <td>B\\wedge F</td>\n",
       "    </tr>\n",
       "    <tr>\n",
       "      <th>4451</th>\n",
       "      <td>11</td>\n",
       "      <td>AdS_4 \\times S^7</td>\n",
       "    </tr>\n",
       "    <tr>\n",
       "      <th>4423</th>\n",
       "      <td>11</td>\n",
       "      <td>AdS_3\\times S^3</td>\n",
       "    </tr>\n",
       "    <tr>\n",
       "      <th>3810</th>\n",
       "      <td>11</td>\n",
       "      <td>6d</td>\n",
       "    </tr>\n",
       "    <tr>\n",
       "      <th>528</th>\n",
       "      <td>11</td>\n",
       "      <td>\\mathcal{N}=\\left(1,1\\right)</td>\n",
       "    </tr>\n",
       "    <tr>\n",
       "      <th>523</th>\n",
       "      <td>11</td>\n",
       "      <td>\\mathcal{N}=\\left(0,2\\right)</td>\n",
       "    </tr>\n",
       "    <tr>\n",
       "      <th>11405</th>\n",
       "      <td>11</td>\n",
       "      <td>U(1)^3</td>\n",
       "    </tr>\n",
       "    <tr>\n",
       "      <th>12314</th>\n",
       "      <td>11</td>\n",
       "      <td>W_{2,4}</td>\n",
       "    </tr>\n",
       "    <tr>\n",
       "      <th>24628</th>\n",
       "      <td>11</td>\n",
       "      <td>r(S_1)</td>\n",
       "    </tr>\n",
       "    <tr>\n",
       "      <th>12973</th>\n",
       "      <td>11</td>\n",
       "      <td>\\CN=2</td>\n",
       "    </tr>\n",
       "    <tr>\n",
       "      <th>24521</th>\n",
       "      <td>11</td>\n",
       "      <td>q\\to 1</td>\n",
       "    </tr>\n",
       "    <tr>\n",
       "      <th>22860</th>\n",
       "      <td>11</td>\n",
       "      <td>j=0</td>\n",
       "    </tr>\n",
       "    <tr>\n",
       "      <th>22367</th>\n",
       "      <td>11</td>\n",
       "      <td>g=0</td>\n",
       "    </tr>\n",
       "    <tr>\n",
       "      <th>21646</th>\n",
       "      <td>11</td>\n",
       "      <td>d+2</td>\n",
       "    </tr>\n",
       "    <tr>\n",
       "      <th>20894</th>\n",
       "      <td>11</td>\n",
       "      <td>_{ϕ}</td>\n",
       "    </tr>\n",
       "    <tr>\n",
       "      <th>20673</th>\n",
       "      <td>11</td>\n",
       "      <td>_{8(8)}</td>\n",
       "    </tr>\n",
       "    <tr>\n",
       "      <th>19805</th>\n",
       "      <td>11</td>\n",
       "      <td>\\to</td>\n",
       "    </tr>\n",
       "    <tr>\n",
       "      <th>19297</th>\n",
       "      <td>11</td>\n",
       "      <td>\\tau</td>\n",
       "    </tr>\n",
       "    <tr>\n",
       "      <th>18555</th>\n",
       "      <td>11</td>\n",
       "      <td>\\phi~3</td>\n",
       "    </tr>\n",
       "    <tr>\n",
       "      <th>17442</th>\n",
       "      <td>11</td>\n",
       "      <td>\\mathcal{M}</td>\n",
       "    </tr>\n",
       "    <tr>\n",
       "      <th>15006</th>\n",
       "      <td>11</td>\n",
       "      <td>\\cal PT</td>\n",
       "    </tr>\n",
       "    <tr>\n",
       "      <th>14177</th>\n",
       "      <td>11</td>\n",
       "      <td>\\Xi</td>\n",
       "    </tr>\n",
       "    <tr>\n",
       "      <th>14028</th>\n",
       "      <td>11</td>\n",
       "      <td>\\Sigma</td>\n",
       "    </tr>\n",
       "    <tr>\n",
       "      <th>13923</th>\n",
       "      <td>11</td>\n",
       "      <td>\\R</td>\n",
       "    </tr>\n",
       "    <tr>\n",
       "      <th>13619</th>\n",
       "      <td>11</td>\n",
       "      <td>\\M_M</td>\n",
       "    </tr>\n",
       "    <tr>\n",
       "      <th>27645</th>\n",
       "      <td>11</td>\n",
       "      <td>~2</td>\n",
       "    </tr>\n",
       "  </tbody>\n",
       "</table>\n",
       "<p>599 rows × 2 columns</p>\n",
       "</div>"
      ],
      "text/plain": [
       "       count                         formula\n",
       "7691    1706                               N\n",
       "24081    778                               p\n",
       "23642    717                               n\n",
       "7837     650                             N=2\n",
       "24407    613                               q\n",
       "5156     544                               D\n",
       "19448    534                          \\theta\n",
       "7247     440                               M\n",
       "16427    431                          \\kappa\n",
       "9286     415                               S\n",
       "8862     409                               R\n",
       "21585    401                               d\n",
       "14708    395                           \\beta\n",
       "22897    372                               k\n",
       "18932    362                          \\sigma\n",
       "6154     359                               G\n",
       "14249    337                          \\alpha\n",
       "495      319                    \\mathcal{N} \n",
       "10825    299                               T\n",
       "11382    297                            U(1)\n",
       "16527    295                         \\lambda\n",
       "9913     288                           SU(2)\n",
       "7804     277                             N=1\n",
       "26592    271                      {\\cal N}=4\n",
       "13421    258                         \\Lambda\n",
       "20645    258                            _{3}\n",
       "12143    257                               W\n",
       "22303    256                               g\n",
       "18374    249                            \\phi\n",
       "20369    249                            ^{2}\n",
       "...      ...                             ...\n",
       "6096      11                             F_g\n",
       "5576      11                             D_2\n",
       "5459      11                             D>2\n",
       "5373      11                            D=2n\n",
       "4789      11                       B\\wedge F\n",
       "4451      11                AdS_4 \\times S^7\n",
       "4423      11                 AdS_3\\times S^3\n",
       "3810      11                              6d\n",
       "528       11   \\mathcal{N}=\\left(1,1\\right) \n",
       "523       11   \\mathcal{N}=\\left(0,2\\right) \n",
       "11405     11                          U(1)^3\n",
       "12314     11                         W_{2,4}\n",
       "24628     11                          r(S_1)\n",
       "12973     11                           \\CN=2\n",
       "24521     11                          q\\to 1\n",
       "22860     11                             j=0\n",
       "22367     11                             g=0\n",
       "21646     11                             d+2\n",
       "20894     11                            _{ϕ}\n",
       "20673     11                         _{8(8)}\n",
       "19805     11                             \\to\n",
       "19297     11                           \\tau \n",
       "18555     11                          \\phi~3\n",
       "17442     11                     \\mathcal{M}\n",
       "15006     11                         \\cal PT\n",
       "14177     11                             \\Xi\n",
       "14028     11                         \\Sigma \n",
       "13923     11                              \\R\n",
       "13619     11                            \\M_M\n",
       "27645     11                              ~2\n",
       "\n",
       "[599 rows x 2 columns]"
      ]
     },
     "execution_count": 68,
     "metadata": {},
     "output_type": "execute_result"
    }
   ],
   "source": [
    "df_formula.sort_values('count', ascending=False)"
   ]
  },
  {
   "cell_type": "markdown",
   "metadata": {},
   "source": [
    "List of recurring formulas"
   ]
  },
  {
   "cell_type": "code",
   "execution_count": 72,
   "metadata": {
    "collapsed": true
   },
   "outputs": [],
   "source": [
    "list_formulas = df_formula.sort_values('count', ascending=False)['formula'].tolist()\n",
    "list_formulas = ['$'+formula+'$' for formula in list_formulas if formula[0] not in ['_', '^', '~', '*']]"
   ]
  },
  {
   "cell_type": "code",
   "execution_count": 73,
   "metadata": {
    "collapsed": true
   },
   "outputs": [],
   "source": [
    "thefile_1 = open('formulas', 'w')\n",
    "for item in list_formulas:\n",
    "    thefile_1.write(\"%s\\n\" % item)\n",
    "thefile_1.close()"
   ]
  },
  {
   "cell_type": "markdown",
   "metadata": {},
   "source": [
    "<h1> Titles </h1>"
   ]
  },
  {
   "cell_type": "markdown",
   "metadata": {},
   "source": [
    "I do the same thing I did for abstract for the titles. I will train a separate RNN on this. This is clearly not appropriate as there should be some semantic relation between abstract and title of a paper. Next time."
   ]
  },
  {
   "cell_type": "code",
   "execution_count": 39,
   "metadata": {
    "collapsed": true
   },
   "outputs": [],
   "source": [
    "title_ph=data_ph['title'].tolist()\n",
    "title_ph=[re.sub('\\(.*?\\)','',title, flags=re.DOTALL) for title in title_ph]\n",
    "title_ph=[re.sub('\\$.*?\\$','XXXXX',title, flags=re.DOTALL) for title in title_ph]\n",
    "title_ph=[title.replace(u\"\\u2018\", \"\").replace(u\"\\u2019\", \"\").replace(u\"\\u201c\", \"\").replace(u\"\\u201d\", \"\")\\\n",
    "        .replace(u\"\\\"\", \"\").replace(u\"- \", \"\") for title in title_ph]\n",
    "title_ph_wordified=[title.split() for title in title_ph]"
   ]
  },
  {
   "cell_type": "code",
   "execution_count": 40,
   "metadata": {
    "collapsed": true
   },
   "outputs": [],
   "source": [
    "good_char=u'0123456789qwertyuiopasdfghjklzxcvbnmQWERTYUIOPLKJHGFDSAZXCVBNM,.!?;:-‘’\"/'\n",
    "set_good_char=set(good_char)\n",
    "set_good_char.update([u'\\u201c',u'\\u201d'])"
   ]
  },
  {
   "cell_type": "code",
   "execution_count": 41,
   "metadata": {
    "collapsed": true
   },
   "outputs": [],
   "source": [
    "def title_filter(title): #title is a list of words\n",
    "    title = [word.lower() if set(word).intersection(good_char)==set(word) else 'xxxxx' for word in title]\n",
    "    title = ' '.join(title)\n",
    "    title= re.findall(r\"[\\w']+|[.,!?;:/]\", title)\n",
    "    return title"
   ]
  },
  {
   "cell_type": "code",
   "execution_count": 42,
   "metadata": {
    "collapsed": true
   },
   "outputs": [],
   "source": [
    "title_ph_words = [title_filter(title) for title in title_ph_wordified]\n",
    "title_ph_words_good = [word for title in title_ph_words for word in title] #lower case"
   ]
  },
  {
   "cell_type": "markdown",
   "metadata": {},
   "source": [
    "Titles with words appearing less than 5 times in the corpus are removed. This time I also remove all titles containing formulas. Come on guys."
   ]
  },
  {
   "cell_type": "code",
   "execution_count": 57,
   "metadata": {},
   "outputs": [
    {
     "name": "stdout",
     "output_type": "stream",
     "text": [
      "Number of title:  77984 \n",
      "Unique words:  11629\n"
     ]
    }
   ],
   "source": [
    "from collections import Counter\n",
    "\n",
    "word_count_title=Counter(title_ph_words_good)\n",
    "#\n",
    "print 'Number of title: ', len(title_ph),'\\nUnique words: ' , len(word_count_title)\n",
    "#\n",
    "word_count_title_series=pd.Series(word_count_title)\n",
    "df_word_count_title=pd.DataFrame({'word':word_count_title_series.index,'count':word_count_title_series.values})\n",
    "#\n",
    "words4_title=df_word_count_title[df_word_count_title['count']<5]['word'].tolist()\n",
    "list_nums_title=df_word_count_title['word'].iloc[4:151].tolist()\n",
    "rare_words_title=set(list_nums_title+words4_title+['xxxxx'])"
   ]
  },
  {
   "cell_type": "code",
   "execution_count": 60,
   "metadata": {},
   "outputs": [
    {
     "name": "stdout",
     "output_type": "stream",
     "text": [
      "Number of filtered titles:  55841\n"
     ]
    }
   ],
   "source": [
    "title_ph_filtered = [title for title in title_ph_words if set(title).intersection(rare_words_title)==set()]\n",
    "title_ph_filtered_joined = [' '.join(title)+' #' for title in title_ph_filtered]\n",
    "title_ph_filtered= [title.split() for title in title_ph_filtered_joined]\n",
    "datawords_title = [word for sublist in title_ph_filtered for word in sublist] \n",
    "print 'Number of filtered titles: ', len(title_ph_filtered)"
   ]
  },
  {
   "cell_type": "code",
   "execution_count": 61,
   "metadata": {},
   "outputs": [
    {
     "name": "stdout",
     "output_type": "stream",
     "text": [
      "Number of unique words in titles:  4305\n"
     ]
    }
   ],
   "source": [
    "words_unique_title = [word for title in title_ph_filtered for word in title]\n",
    "words_unique_title = set(words_unique_title)\n",
    "print 'Number of unique words in titles: ', len(words_unique_title)"
   ]
  },
  {
   "cell_type": "code",
   "execution_count": 49,
   "metadata": {
    "collapsed": true
   },
   "outputs": [],
   "source": [
    "import pickle\n",
    "\n",
    "with open('title_file', 'wb') as f:\n",
    "    pickle.dump(title_ph_filtered, f)"
   ]
  },
  {
   "cell_type": "markdown",
   "metadata": {},
   "source": [
    "The file 'text8_title' contains all the preprocessed titles. It will be fed to GloVe to create word embedding and to the RNN to train"
   ]
  },
  {
   "cell_type": "code",
   "execution_count": 51,
   "metadata": {
    "collapsed": true
   },
   "outputs": [],
   "source": [
    "thefile = open('text8_title', 'w')\n",
    "for item in datawords_title:\n",
    "    thefile.write(\"%s \" % item)"
   ]
  },
  {
   "cell_type": "markdown",
   "metadata": {},
   "source": [
    "<h1> Extract formulas </h1>"
   ]
  },
  {
   "cell_type": "markdown",
   "metadata": {},
   "source": [
    "I extract formula from the abstracts to use them back later. Formula are defined as text between two '\\$' signs."
   ]
  },
  {
   "cell_type": "code",
   "execution_count": 62,
   "metadata": {
    "collapsed": true
   },
   "outputs": [],
   "source": [
    "abs_ph_formulae=data_ph['abs1'].tolist()\n",
    "abs_ph_formulae = [re.findall(r'\\$(.*?)\\$', abstract) for abstract in abs_ph_formulae]\n",
    "abs_ph_formulae= [formula for sublist in abs_ph_formulae for formula in sublist]"
   ]
  },
  {
   "cell_type": "code",
   "execution_count": 63,
   "metadata": {
    "collapsed": true
   },
   "outputs": [],
   "source": [
    "formula_count=Counter(abs_ph_formulae)"
   ]
  },
  {
   "cell_type": "code",
   "execution_count": 64,
   "metadata": {
    "collapsed": true
   },
   "outputs": [],
   "source": [
    "formula_count_series=pd.Series(formula_count)\n",
    "df_formula_count=pd.DataFrame({'formula':formula_count_series.index,'count':formula_count_series.values})\n",
    "df_formula=df_formula_count[(df_formula_count['count']>200)&(df_formula_count['count']!=67)]"
   ]
  },
  {
   "cell_type": "markdown",
   "metadata": {},
   "source": [
    "Most frequent fromulas"
   ]
  },
  {
   "cell_type": "code",
   "execution_count": 68,
   "metadata": {},
   "outputs": [
    {
     "data": {
      "text/html": [
       "<div>\n",
       "<style>\n",
       "    .dataframe thead tr:only-child th {\n",
       "        text-align: right;\n",
       "    }\n",
       "\n",
       "    .dataframe thead th {\n",
       "        text-align: left;\n",
       "    }\n",
       "\n",
       "    .dataframe tbody tr th {\n",
       "        vertical-align: top;\n",
       "    }\n",
       "</style>\n",
       "<table border=\"1\" class=\"dataframe\">\n",
       "  <thead>\n",
       "    <tr style=\"text-align: right;\">\n",
       "      <th></th>\n",
       "      <th>count</th>\n",
       "      <th>formula</th>\n",
       "    </tr>\n",
       "  </thead>\n",
       "  <tbody>\n",
       "    <tr>\n",
       "      <th>7691</th>\n",
       "      <td>1706</td>\n",
       "      <td>N</td>\n",
       "    </tr>\n",
       "    <tr>\n",
       "      <th>24081</th>\n",
       "      <td>778</td>\n",
       "      <td>p</td>\n",
       "    </tr>\n",
       "    <tr>\n",
       "      <th>23642</th>\n",
       "      <td>717</td>\n",
       "      <td>n</td>\n",
       "    </tr>\n",
       "    <tr>\n",
       "      <th>7837</th>\n",
       "      <td>650</td>\n",
       "      <td>N=2</td>\n",
       "    </tr>\n",
       "    <tr>\n",
       "      <th>24407</th>\n",
       "      <td>613</td>\n",
       "      <td>q</td>\n",
       "    </tr>\n",
       "    <tr>\n",
       "      <th>5156</th>\n",
       "      <td>544</td>\n",
       "      <td>D</td>\n",
       "    </tr>\n",
       "    <tr>\n",
       "      <th>19448</th>\n",
       "      <td>534</td>\n",
       "      <td>\\theta</td>\n",
       "    </tr>\n",
       "    <tr>\n",
       "      <th>7247</th>\n",
       "      <td>440</td>\n",
       "      <td>M</td>\n",
       "    </tr>\n",
       "    <tr>\n",
       "      <th>16427</th>\n",
       "      <td>431</td>\n",
       "      <td>\\kappa</td>\n",
       "    </tr>\n",
       "    <tr>\n",
       "      <th>9286</th>\n",
       "      <td>415</td>\n",
       "      <td>S</td>\n",
       "    </tr>\n",
       "  </tbody>\n",
       "</table>\n",
       "</div>"
      ],
      "text/plain": [
       "       count formula\n",
       "7691    1706       N\n",
       "24081    778       p\n",
       "23642    717       n\n",
       "7837     650     N=2\n",
       "24407    613       q\n",
       "5156     544       D\n",
       "19448    534  \\theta\n",
       "7247     440       M\n",
       "16427    431  \\kappa\n",
       "9286     415       S"
      ]
     },
     "execution_count": 68,
     "metadata": {},
     "output_type": "execute_result"
    }
   ],
   "source": [
    "df_formula.sort_values('count', ascending=False)[0:10]"
   ]
  },
  {
   "cell_type": "code",
   "execution_count": null,
   "metadata": {
    "collapsed": true
   },
   "outputs": [],
   "source": []
  }
 ],
 "metadata": {
  "kernelspec": {
   "display_name": "Python 2",
   "language": "python",
   "name": "python2"
  },
  "language_info": {
   "codemirror_mode": {
    "name": "ipython",
    "version": 2
   },
   "file_extension": ".py",
   "mimetype": "text/x-python",
   "name": "python",
   "nbconvert_exporter": "python",
   "pygments_lexer": "ipython2",
   "version": "2.7.13"
  }
 },
 "nbformat": 4,
 "nbformat_minor": 2
}
