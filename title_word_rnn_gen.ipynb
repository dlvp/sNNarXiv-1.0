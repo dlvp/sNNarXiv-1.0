{
 "cells": [
  {
   "cell_type": "code",
   "execution_count": 1,
   "metadata": {
    "collapsed": true
   },
   "outputs": [],
   "source": [
    "\"\"\"\n",
    "Imports\n",
    "\"\"\"\n",
    "import numpy as np\n",
    "import tensorflow as tf\n",
    "%matplotlib inline\n",
    "import matplotlib.pyplot as plt\n",
    "import time\n",
    "import os\n",
    "import pickle\n",
    "#from tensorflow.models.rnn.ptb import reader"
   ]
  },
  {
   "cell_type": "markdown",
   "metadata": {},
   "source": [
    "<h1> Generate new text </h1>"
   ]
  },
  {
   "cell_type": "code",
   "execution_count": 2,
   "metadata": {
    "collapsed": true
   },
   "outputs": [],
   "source": [
    "l_key = []\n",
    "l_val=[]\n",
    "with open(\"vectors.txt\") as f:\n",
    "    for line in f:\n",
    "        line_content = line.split()\n",
    "        key=line_content[0]\n",
    "        val=[float(x) for x in line_content[1:]]\n",
    "        l_key.append(key)\n",
    "        l_val.append(np.asarray(val))\n",
    "dictionary=dict(zip(l_key,l_val))"
   ]
  },
  {
   "cell_type": "code",
   "execution_count": 3,
   "metadata": {
    "collapsed": true
   },
   "outputs": [],
   "source": [
    "with open('title_file', 'rb') as f:\n",
    "    title_ph_filtered = pickle.load(f)\n",
    "datawords = [item for sublist in title_ph_filtered for item in sublist]"
   ]
  },
  {
   "cell_type": "code",
   "execution_count": 6,
   "metadata": {
    "collapsed": true
   },
   "outputs": [],
   "source": [
    "words_unique = set(datawords)\n",
    "vocab = words_unique\n",
    "vocab_size = len(vocab)\n",
    "idx_to_vocab = dict(enumerate(vocab))\n",
    "vocab_to_idx = dict(zip(idx_to_vocab.values(), idx_to_vocab.keys()))\n",
    "data_temp= [vocab_to_idx[word] for word in datawords]\n",
    "del title_ph_filtered"
   ]
  },
  {
   "cell_type": "code",
   "execution_count": 7,
   "metadata": {},
   "outputs": [],
   "source": [
    "emb_matrix=np.matrix([dictionary[idx_to_vocab[i]] for i in range(vocab_size)])"
   ]
  },
  {
   "cell_type": "code",
   "execution_count": 8,
   "metadata": {
    "collapsed": true
   },
   "outputs": [],
   "source": [
    "data=data_temp"
   ]
  },
  {
   "cell_type": "code",
   "execution_count": 9,
   "metadata": {
    "collapsed": true
   },
   "outputs": [],
   "source": [
    "\"\"\"\n",
    "Load and process data, utility functions\n",
    "\"\"\"\n",
    "\n",
    "def gen_epochs(n, num_steps, batch_size):\n",
    "    for i in range(n):\n",
    "        yield ptb_iterator(data, batch_size, num_steps)\n",
    "\n",
    "def reset_graph():\n",
    "    if 'sess' in globals() and sess:\n",
    "        sess.close()\n",
    "    tf.reset_default_graph()\n",
    "\n",
    "def build_graph(\n",
    "    cell_type = None,\n",
    "    num_weights_for_custom_cell = 5,\n",
    "    state_size = 100,\n",
    "    num_classes = vocab_size,\n",
    "    batch_size = 32,\n",
    "    num_steps = 200,\n",
    "    num_layers = 2,\n",
    "    build_with_dropout=True,\n",
    "    temperature = 1,\n",
    "    learning_rate = 5e-4):\n",
    "\n",
    "    reset_graph()\n",
    "\n",
    "    x = tf.placeholder(tf.int32, [batch_size, num_steps], name='input_placeholder')\n",
    "    y = tf.placeholder(tf.int32, [batch_size, num_steps], name='labels_placeholder')\n",
    "\n",
    "    dropout = tf.constant(0.8)\n",
    "\n",
    "    init_emb = tf.constant(emb_matrix.astype(np.float32))\n",
    "    embeddings = tf.get_variable('embedding_matrix', initializer=init_emb)\n",
    "\n",
    "    rnn_inputs = tf.nn.embedding_lookup(embeddings, x)\n",
    "\n",
    "    if cell_type == 'Custom':\n",
    "        cell = CustomCell(state_size, num_weights_for_custom_cell)\n",
    "    elif cell_type == 'GRU':\n",
    "        cell = tf.nn.rnn_cell.GRUCell(state_size)\n",
    "    elif cell_type == 'LSTM':\n",
    "        cell = tf.nn.rnn_cell.LSTMCell(state_size, state_is_tuple=True)\n",
    "    elif cell_type == 'LN_LSTM':\n",
    "        cell = LayerNormalizedLSTMCell(state_size)\n",
    "    else:\n",
    "        cell = tf.nn.rnn_cell.BasicRNNCell(state_size)\n",
    "\n",
    "    if build_with_dropout:\n",
    "        cell = tf.nn.rnn_cell.DropoutWrapper(cell, input_keep_prob=dropout)\n",
    "\n",
    "    if cell_type == 'LSTM' or cell_type == 'LN_LSTM':\n",
    "        cell = tf.nn.rnn_cell.MultiRNNCell([cell] * num_layers, state_is_tuple=True)\n",
    "    else:\n",
    "        cell = tf.nn.rnn_cell.MultiRNNCell([cell] * num_layers)\n",
    "\n",
    "    if build_with_dropout:\n",
    "        cell = tf.nn.rnn_cell.DropoutWrapper(cell, output_keep_prob=dropout)\n",
    "\n",
    "    init_state = cell.zero_state(batch_size, tf.float32)\n",
    "    rnn_outputs, final_state = tf.nn.dynamic_rnn(cell, rnn_inputs, initial_state=init_state)\n",
    "\n",
    "    with tf.variable_scope('softmax'):\n",
    "        W = tf.get_variable('W', [state_size, num_classes])\n",
    "        b = tf.get_variable('b', [num_classes], initializer=tf.constant_initializer(0.0))\n",
    "\n",
    "    #reshape rnn_outputs and y\n",
    "    rnn_outputs = tf.reshape(rnn_outputs, [-1, state_size])\n",
    "    y_reshaped = tf.reshape(y, [-1])\n",
    "\n",
    "    logits = (tf.matmul(rnn_outputs, W) + b)/temperature\n",
    "\n",
    "    predictions = tf.nn.softmax(logits)\n",
    "\n",
    "    total_loss = tf.reduce_mean(tf.nn.sparse_softmax_cross_entropy_with_logits(logits=logits,labels=y_reshaped))\n",
    "    train_step = tf.train.AdamOptimizer(learning_rate).minimize(total_loss)\n",
    "\n",
    "    return dict(\n",
    "        x = x,\n",
    "        y = y,\n",
    "        init_state = init_state,\n",
    "        final_state = final_state,\n",
    "        total_loss = total_loss,\n",
    "        train_step = train_step,\n",
    "        preds = predictions,\n",
    "        saver = tf.train.Saver()\n",
    "    )"
   ]
  },
  {
   "cell_type": "code",
   "execution_count": 10,
   "metadata": {
    "collapsed": true
   },
   "outputs": [],
   "source": [
    "def generate_characters(g, checkpoint, num_chars, prompt='A', pick_top_chars=None):\n",
    "    \"\"\" Accepts a current character, initial state\"\"\"\n",
    "\n",
    "    with tf.Session() as sess:\n",
    "        sess.run(tf.initialize_all_variables())\n",
    "        g['saver'].restore(sess, checkpoint)\n",
    "\n",
    "        state = None\n",
    "        current_char = vocab_to_idx[prompt]\n",
    "        chars = [current_char]\n",
    "\n",
    "        for i in range(num_chars):\n",
    "            if state is not None:\n",
    "                feed_dict={g['x']: [[current_char]], g['init_state']: state}\n",
    "            else:\n",
    "                feed_dict={g['x']: [[current_char]]}\n",
    "\n",
    "            preds, state = sess.run([g['preds'],g['final_state']], feed_dict)\n",
    "\n",
    "            if pick_top_chars is not None:\n",
    "                p = np.squeeze(preds)\n",
    "                p[np.argsort(p)[:-pick_top_chars]] = 0\n",
    "                p = p / np.sum(p)\n",
    "                current_char = np.random.choice(vocab_size, 1, p=p)[0]\n",
    "            else:\n",
    "                current_char = np.random.choice(vocab_size, 1, p=np.squeeze(preds))[0]\n",
    "\n",
    "            chars.append(current_char)\n",
    "\n",
    "    chars = map(lambda x: idx_to_vocab[x], chars)\n",
    "    print(\" \".join(chars))\n",
    "    return(\" \".join(chars))"
   ]
  },
  {
   "cell_type": "code",
   "execution_count": 166,
   "metadata": {},
   "outputs": [
    {
     "name": "stdout",
     "output_type": "stream",
     "text": [
      "WARNING:tensorflow:From /anaconda/envs/dataweekends/lib/python2.7/site-packages/tensorflow/python/util/tf_should_use.py:170: initialize_all_variables (from tensorflow.python.ops.variables) is deprecated and will be removed after 2017-03-02.\n",
      "Instructions for updating:\n",
      "Use `tf.global_variables_initializer` instead.\n",
      "INFO:tensorflow:Restoring parameters from saves_title/abstract_epochs\n",
      "a holographic superconductor model with magnetic field # the spectrum of the su sector in su yang mills higgs theory # the supersymmetric dual of supersymmetric quantum mechanics # on the quantum hall effect on a torus # on the classification of vacua of su yang mills theory # on the relation between the mandelstam and a gauge couplings # the type iib string on the conifold of pp # quantum field theory # the open spin chain # a note on a class of the radion in the world sheet # the brane world # the quantum information of the cosmological constant # a new perspective on the cosmological constant # the cosmological constant problem and a quantum field theory # the effective average action for the effective action of the supermembrane # on the effective action of string field theory in de sitter backgrounds # a note on the zakharov shabat theory model # the cosmological constant and cosmological constant problem # a comment on the stability of the superconducting transition in a large n gauge theory # on the construction of the topological string action # the cosmological constant and the seesaw of string and the standard model # the supersymmetric phase of a qcd in a magnetic field # a note on noncommutative gauge field theories # a new massive field theory of the string theory # a new look in the glass paradox limit # the cosmological constant problem in the universe # a note on the effective action of softly broken supersymmetric qcd # on the quantum properties of a the black hole # the arrow of time and supersymmetry and its applications # the string theory # on the quantum field theory of the quantum mechanics # a note on the gauge group of the yang mills theory # a new and the standard model # on the construction of the su z z graded toda chain # on a class of supersymmetric solutions of a type iib string # a new look in qcd in dimensions # on the hierarchy problem in noncommutative field theories # a new approach of quantum field theory on noncommutative spaces # a note on the renormalization group and flow equations in string theory # a note on the supersymmetric index in the heterotic string # on the construction of the effective action for a selfinteracting scalar field theory # a new solution of the decompactification problem in ads / dcft # a note on the bft approach to the epstein glaser renormalization in the causal picture of quantum gravity # the time dependent sector of the ads / cft correspondence # the cosmological constant problem from the viewpoint of the inflaton model # on the quantum field theory approach to a new class of models # a family of continuum limits of the calogero sutherland system # a new approach to a free particle in a class of quantum field theories # the quantum group of the poincare group and its application in quantum field theories # on a structure of boundary systems in two dimensions : a matrix model # on the structure of eigenstates in the planar matrix model # the geometry of the supersymmetric standard model with a contracting sphaleron # the vacuum polarization in a uniform electromagnetic field # the secret multiplet of the pure spinor string # on the absence of the radion in the cosmological constant # the radion in a de sitter thick brane world # on the effective action for a massless scalar field # a new approach to the su yang mills theory # the quantum geometry of the quantum hall effect # on the stability of the cosmological constant # the lienard wiechert field in a constant electromagnetic field # a note on the relation between the quantum group and statistics of the landau gauge # a note on the bargmann wigner equations in curved space # a new class of the disappearing taylor square # the derivative expansion and the renormalization group # a note on the radion in the brane world # a note on tachyon condensation # the holographic description of the universe # a note on the effective action of the dirac operator # on the moduli space of the su x su su x su x z x orientifold # a note on the entropy of extremal black holes and the entropy of the kerr newman black hole # on the construction of a classical field theory # the quantum gravity equation and its applications # the cardy verlinde formula and the taub nut bolt spacetime # the existence of the spinning particle # quantum mechanics of a noncommutative particle # the batalin tyutin formalism of the chiral conformal oscillator model # a note about a class of supersymmetric models and the heterotic m term # the transfer matrix and renormalization group in two dimensions # the quantum phase transition in qed with a constant electric magnetic # the aharonov bohm effect and the quantization condition # quantum group symmetry and quantum mechanics # a note on the noncommutative space time in the noncommutative wess zumino model # a new solution of the dirac equation # a note on the effective potential for the quantum field theory # a note on the h monopole # on the equivalence of the poisson sigma model and the quantum hall effect # quantum space time uncertainty in noncommutative geometry # a theory of the cosmological constant # on a class and the effective action in a brane world # a comment on the exact solution of the knizhnik zamolodchikov equation in the sliver direction # the batalin vilkovisky vacuum of the vacuum field theory in a constant electromagnetic magnetic field # a note on quantum gravity and quantum gravity on a sphere # a new approach to the quantum master equation for the yang mills theory in the coulomb gauge # a note on the tachyon energy in nonsupersymmetric string theory # a new class of the kp hierarchy in the string theory # integrable structure of the two body problem of the sl wznw model # quantum corrections to the cardy verlinde formula and black hole in a bulk brane world # the gravity dual to anyons in a curved spacetime # on the equivalence between and the local and the cosmological constant # a new approach to the casimir effect in a separable electromagnetic field # a note about a new class of exact solutions of yang mills theories # the renormalization of a nonsemisimple sugawara construction # on the linearization of w algebras and the w algebras # on the quantum kp problem for the dirac operator on the light front # the quantum group algebra for a two dimensional potts model and the problem of the dirac equation # the hausdorff dimension of the ising model # the quantum group group of a quantum integrable system # on the quantum mechanics of the nonlinear schrodinger equations # on the uniqueness of w w w algebras # chiral symmetry breaking and the wkb wormhole # quantum field theory and the quantum mechanics # the antibracket and brst quantization method # the supereigenvalue model and the multiverse # the boltzmann equation for the schwarzschild black brane # on the the quantum field and its relation to the cosmological constant # on a quantum field theory of the sl wznw model # the generalized uncertainty principle in string theory # the dynamics of the universe in the presence of a dilaton field # a geometrical interpretation of the string theory # a new formulation of the gauge invariant action in the noncommutative superspace # a new class of the quantum mechanical of quantum chromodynamics # the quantum field theory on a sphere # a new approach to quantum cosmology # the quantization of the antibracket # the brst quantization of string theory # the quantum hall effect and the relativistic anyon wave # a comment on the bft of path integral formalism in quantum mechanics # the quantum field theory of a particle # on the w algebra # the quantum w algebra # vertex operators of the affine toda model # on the structure of the wheeler dewitt equation in two dimensional dilaton gravity # w infinity symmetry and the calogero sutherland model # the schrodinger equation for the xxz chain with boundary # the classical r matrix # quantum hall diholes in the background background and the tachyon potential # the string theory and the string tension # on the structure group of the w string # a note on the geometry of the w algebras # a model of the dirac equation with nonzero eigenvalues constant in a dilute a bag # boundary state and path integral for a class of supersymmetric yang mills theory in dimensions # the itzykson zuber integral # a new approach to quantum gravity in the presence of timelike curves # on the structure of the effective action of the universe in the standard model # the kontsevich theory on the noncommutative plane # the quantum gravity of a dilaton # on the gauge invariant description of the gluodynamics string # renormalization of a scalar field theory in the presence of a constant magnetic field # a note on the existence and bps bound states of the bosonic string # opening lecture notes on noncommutative gauge theory and the noncommutative geometry # a note on a cohomological derivation of the seiberg witten duality # on quantum gauge theory and the cosmological constant # a note on the spectrum of d brane solutions with multiple warping # the effective action of the quantum field theory in curved spacetime # the virial theorem for the dirac equation in the presence of a chern simons term # the nonabelian stokes theorem in the o model # on quantum groups in quantum theory # on the quantum deformation of the poincare algebra # the supermembrane in the light cone limit # on the the two dimensional supersymmetric field theory # on the equivalence of the selfdual and massive gravity in dimensions # on the quantum gravity # a note on the partonic description of the gs string # on the geometry of the string # on gauge fields in string theory # the renormalization group of the quantum field theory # the geometry of the w w algebras # the w algebra in w w algebras # w algebras and quasifinite representation of w algebras # a note on string theory and the string theory # on the quantum equivalence of the selfdual gravity # the batalin vilkovisky formalism and the concept of quasi time derivatives in the light cone formalism # the exact form factors of the two dimensional gross neveu model # a new approach to the problem of the phase space structure of quantum gravity in the two loop effective action # quantum field theory and the path integral for a gauge fields # a new class of the string bit models of quantum gravity # quantum mechanics of a quantum hall system in dimensions and dimensions on dimensions # on the duality of noncommutative yang mills theory # on the quantum structure of the quantum mechanical path integral formalism # on a quantum mechanical detector in the space time foam # noncommutative geometry # quantum groups , noncommutative geometry and the choice of regulators in the triplectic field group # a new approach to string field theory # on the equivalence of the maximization and u and nonsemisimple groups in six dimensions # on gauge invariant gravity in dimensions # on the effective potential in the effective action # the cosmological constant and the cosmological constant problem # a new model for a unified theory of the quantum string # on the quantum interpretation of the ads / cft correspondence # quantum gravity and the cosmological constant problem # on the equivalence postulate of the light observer # vacuum energy and a class of the cosmological constant # the cosmological constant problem for the string tension of d brane # the effective action for quantum fields # on the boundary s matrices in the sl model # a new look in the discretized light of gauge theory # the the nonabelian gauge theory # the aharonov casher effect in a curved space time # chronology protection and their boundary states # string theory and the ads / cft correspondence # the ads / cft correspondence and the ads / cft correspondence # a note on the tachyon action for string and string theory # a note on the dirichlet energy condition in string theory # the spectrum of d branes in string theory # the cosmological constant and the cosmological constant # the quantization of a gauge theory in a background background # noncommutative solitons and the interference theorem # on the question of lorentz invariant quantum electrodynamics in curved space # on the continuum limit of the su x su gauge field # a new model for gravity and the cosmological constant problem # a comment on the use of su gauge invariance in the nambu jona lasinio model # the dirac equation in a magnetic field # on the boundary structure of the string string # on the geometry of supersymmetric sigma models # the bogolyubov renormalization group approach to the renormalization of quantum mechanics # the classical field theory of a massive gravity in two dimensions # the ads / cft correspondence # on the geometry of the standard representation of the z x z prime x z x z orbifold # a new realization of the chiral symmetry of the dirac equation # a comment on the origin of the minimal length uncertainty relations in quantum mechanics # the spectrum of the spin chain # on the construction of the dirac operator in the presence of the minimal length uncertainty # quantum hall effect in the noncommutative space time # quantum gravity in a noncommutative space time # the boundary conditions and the algebra for quantum states # on the structure of the cosmological constant in string theory # the renormalization group for a gauge theory of a quantum hall effect # on the space of anyon superconductivity in dimensions # on the quantum gravity of the dilaton # quantum hall effect in the presence of a topological defect # on the quantum structure of the quantum hall ferromagnet # boundary value problems of the ordinary differential equations # the exact solution of the laplace operator in a simple affine superalgebra gl # conservation laws for the virasoro algebra , w w algebra # the kazakov migdal model model # the marinari parisi collective model of the qcd string # the quantum hall effect in the presence of a field # on quantum field theory and the string theory # the cosmological constant in a string theory # on the relation between the path integral of the lowest order # on the effective action for the dirac operator in curved space # the string theory of the ads / cft correspondence # a proof of confinement for the quark gluon given amplitude in qcd # the role of a twist in noncommutative space # on the possibility of a unified spinorial field theory # on the structure of the cosmological constant # on the classification of reflexive polyhedra in the brane # the supercurrent and string theory in two dimensions # the cosmological constant in the presence of a cosmological constant # a remark for quantum field theory # the quantum hall effect in the presence # the bv quantization of the antibracket antifield formalism # the casimir effect of parallel plates in a cosmic background # the casimir energy for the piecewise uniform magnetic field # on the structure of the supersymmetric sine gordon model # the exact renormalization group approach to the hamiltonian approach to quantum mechanics # on the symmetries of the the sinh gordon system and its relation between the dirac and fock equations # on the structure of w algebras # on a class of a supersymmetric matrix model # the cosmological constant in the horava gravity # on holographic dual with non trivial backgrounds # the casimir effect in noncommutative quantum mechanics # the concept of the lepton magnetic degree in noncommutative geometry # a note on the stability of the randall sundrum model # the cosmological constant and the fate of the universe : the case of the disappearing brane # the radion in the brane universe # the brane induced action for a minimally coupled scalar field # the casimir effect in a rectangular waveguide # a note on discussion of tachyon dark energies in ads / cft correspondence # on the moduli space of the universe with torsion and the cosmological constant # the fate of the moduli space of the inter quark potential at finite temperature # the holographic description of the ads / cft correspondence # on the moduli dependence of the s matrix # a note on the cosmological constant # on the cosmological constant problem in m theory # the casimir effect for a brane world in the randall sundrum model # a new model for the big rip # the gregory / superconductor entropy # the holographic dual of conformal field theory # the renormalization group for the dirac operator in the presence of a field dependent time # analytical results on the renormalization group for a nonsemisimple groups # the nambu bracket on the noncommutative plane # on the relation between nsr strings , and the geometric representation of the string theory # the batalin vilkovisky formalism # the master potential for a quantum field theory of quantum gravity # the structure of the antibracket # the brst quantization of w symmetry in a minkowski space time # quantum field theory and quantum corrections in a cosmic string spacetime # on a new properties of the classical and the multiplicative algebra # on the renormalization group of the su yang mills theory # the rn black hole # a new class of the cosmological constant # the mass gap in the gross neveu model at finite temperature # the heat kernel and quantum field theories with boundaries # the field theoretical of the quantum hall effect in a nonlinear sigma model # quantum gravity and the quantum field model # a note on the construction of topological strings # the black hole entropy and the entropy of black hole evaporation in dimensions # the cosmological constant in a string theory # the effective action of the dirac sea in the coulomb gauge # the effect of the renormalizability of the noncommutative quantum mechanics # a note on the the effective action of the dirac born infeld equation # the exact spectrum and the string model in a curved background # the batalin vilkovisky formalism in the noncommutative plane # quantum mechanics in curved space # a note on duality in supergravity theories and the string theory # quantum gravity and the cosmological constant # on the origin of the arrow of time # the effective action of a particle and the arrow of time # on the quantum field theory of the quantum field in noncommutative space # the renormalization group and the renormalization group for the poincare group # on the quantum group structure of the sine gordon model # the quantum hamilton jacobi method for the nambu jona lasinio model # the dirac equation in an external magnetic field and the aharonov bohm effect # the diagonalization and quantum algorithms in qcd # renormalization of the quantum mechanics of the dirac operator in the batalin vilkovisky formalism # the definition of w algebras and w algebras # w algebras , w algebras , and the virasoro algebra # on the classification of the strominger system # on the thermodynamics of the two dimensional dilaton gravity # on a class of integrable models # quantum mechanics of the dirac oscillator # a note on the duality and the standard model of the higgs phase # the ads / cft correspondence in ads / cft # on the entropy of black holes # quantum gravity and the nature of the phase of space time # supersymmetry and quantum aspects of string theory # the path integral for the coulomb gauge # the path integral for noncommutative gauge theories # the zero temperature effect in the noncommutative geometry of noncommutative gauge theories # the string nature of the hagedorn transition in the sine gordon model with a boundary in the presence of a magnetic field and its application by a path integral # on the structure of a class of matrix models # on the quantum equivalence of the duffin kemmer petiau theory of a gauge fields # the quantum heisenberg algebra and the bethe salpeter equation # the fate of the cosmological constant in a brane gas universe # on the structure of the dirac equation in the presence of a scalar field in the noncommutative space # on a gauge invariant regulator for the renormalization group in the light front # on the quantum field theoretic description for the parametrized spin chain # on the the the s matrix of the d1 d5 system # a note on a generalization of the gauge group # the holographic renormalization of the dirac born infeld action # on the relation between the quantum group and poincare symmetry in quantum mechanics # the quantum group of the poincare group # a note on the standard like model # a note on the gauge theory duality # the holographic phase structure of the btz black hole # a new class of supersymmetric attractors # on the problem of the exact solution of the quantum sine gordon theory # the arrow of time in quantum mechanics # on the relation between observables and topological field theory # the quantum hall effect and the quantum phase space # quantum mechanics of a charged particle on a sphere # observable algebras # the algebra structure of the xxz chain with boundary : boundary conditions , the and sinh gordon model # the deformed heisenberg algebra # on the the covariant quantization of a massive gravity # a note on the motivic graph # on the analogy for theory to the quantum mechanics of gravity # the quantum information paradox # recursive graphical representation of the feynman diagrams # twist fields in the hamiltonian formalism of the coulomb gauge in the coulomb gauge # a new class of the cosmological constant problem for inflation # on the the brst operator for the sl wznw models # on a quantum gravity of a black hole # on the entropy bound and quantum black hole entropy # a note on the renormalization group # on the the structure of the quantum group of the ising model in the light cone gauge # a new class of integrable quantum field theory # the spectrum of the universe in the ads / cft correspondence # the ads / cft correspondence # the perturbative solution of su / adjoint qcd # quantum gravity in a background field # a note on the renormalization of the bosonized scalar field on a lattice # the two dimensional conformal field theory # a quantum mechanics in the quantum phase space # a note on the effective action of a maximization # gauge theories in dimensions with a line # the breakdown of quantum field theory # the effective field theory of gravity # the renormalization group approach for a quantum group # manin type ii field # matrix string models and the geometry of the string theory # on quantum field theory # on the construction of classical quantum field theory # on the quantum structure of the dirac equation of the the correlated electrons # the birkhoff theorem and anticommuting # tools for solving the calculation of the free energy # on the quantum field theory in noncommutative geometry and the braided group # on the the boundary boundary conditions in sl wznw models # on the renormalization group and the renormalization group # on a quantum field theory of the quantum gravity # the renormalization group and renormalization group equation for a q deformed two dimensional string # string theoretic duality and noncommutative geometry # a note on a class of the su gauge theories # on the equivalence of the selfdual lagrangian in the usual symmetric space # quantum fields in noncommutative space and the quantum group # introduction to quantum field theory # a note on the quantum inconsistency of the antifield formalism for reducible theories # on the quantum group of the two dimensional quantum gravity # on the geometry of the noncommutative torus # the geometry of the membrane of the heterotic string # on the stability of the tachyon vacuum # the effective action in the presence of a fundamental matter in the higgs potential # phase structure of quantum field theory # the quantum group of the poincare algebra and its application # damped to a test of the qcd dirac operator in two dimensions # on the the gupta bleuler quantization of the calogero model with well # the radion and the cosmological constant in the presence of extra dimensions # on the exact renormalization of the spin chain # on the equivalence principle in the noncommutative space # a new approach to the string hypothesis of the dirac operators # a note on the covariant hamiltonian # the light front and noncommutative quantum field theory # the spectrum of a quantum hall system on a sphere # on a possibility of the casimir effect in a field theory # on quantum field theory of the quantum hall system # on the exact structure of the su gauge theory # the quantum phase transition between the two gross neveu penner model # the kazakov migdal model # the quantum hall effect in noncommutative geometry # on the construction for w algebras # the generalized sine gordon model in the presence of a magnetic field # a note on the heisenberg algebra of the string # the classification of quantum field theories in a quantized space time # on the meaning of the quantum field aspect of unruh and batalin vilkovisky quantization in two dimensional string theory # the quantization of the classical w w algebras # on the quantum field theory # on the definition of quantum solitons # the quantum space of noncommutative space time and the light cone quantization of a quantized nonlinear electrodynamics and nonabelian toda theory # a class of nonperturbative solutions for string field theory # on the ray singer weil # the renormalization group and the renormalization group equation in the presence of a time space time # the w algebra of the kp kdv hierarchies # a new model for the cosmological constant # the problem of a string hypothesis for the quantum field # a quantum field theoretic approach to the quantum field theory # the classical w string and the kdv hierarchy # a note on the zakharov shabat ginzburg theory # the mathai quillen formalism and their integrable systems # the effective action of a gauge theory of the nonabelian thirring model # on the construction of the antibracket # generally covariant formulation of quantum field theory # the effective action of the quantum gravity # black hole information and quantum gravity # duality and the quantum dilogarithm # q counting and the renormalization group # the quantum field theory in noncommutative space time : a short review # the two dimensional o model with a dilaton potential # the renormalization of the quantum group and the noncommutative plane # a new approach to string theory # the geometry of noncommutative geometry and string theory # on the structure of verma series of quantum field theories # a comment on the existence of the state structure of the string theory # a note on the front path integral # quantization in the light front field theory # the spectrum of the nonabelian wznw model # a note on the string hypothesis for string theory # the casimir energy for parallel plates in curved space time # the effective potential in a magnetic field # on the quantum mechanics of the noncommutative algebra # the dirac born infeld action in dimensions # a new formulation of string field theory # on the classification of reflexive polyhedra in string field theory # on the boundary conditions of the antifield formalism for the nonlinear sigma theory # a comment on the continuum formula of the scattering amplitude # on the relation between the mandelstam , epsilon and the mandelstam leibbrandt prescription # the schwinger dyson equation for the schwinger model # the structure of the n dimensional selfdual yang mills theory # on the question of conserved charges of nonabelian toda theory on the cylinder # on the quantum equivalence between a selfdual and abelian gauge theories in three dimensions # the spectrum of the dirac equation # a comment on the entropy of black holes # a new solution of a the dirac equation # the outer d matrix space time and its applications # quantum cosmology and the cosmological constant problem # the vacuum polarization in noncommutative field theory # a note on the quantum group # the quantum field theory and the phase transition of the dirac equation # the hamilton jacobi action of the world of brane world # a note on a supersymmetric quantum mechanics of the wess zumino witten model # on the effective action of the wess zumino model in dimensions # the cosmological constant in brane worlds #\n"
     ]
    }
   ],
   "source": [
    "g = build_graph(cell_type='GRU', num_steps=1, batch_size=1, temperature=1.1)\n",
    "out=generate_characters(g, \"saves_title/abstract_epochs\", 5000, prompt='a', pick_top_chars=3)"
   ]
  },
  {
   "cell_type": "markdown",
   "metadata": {},
   "source": [
    "Manipulate titles"
   ]
  },
  {
   "cell_type": "code",
   "execution_count": 172,
   "metadata": {
    "collapsed": true
   },
   "outputs": [],
   "source": [
    "def manipulate_string_title(s):\n",
    "    \"\"\" Takes a string and do a bunch of stuff on it\"\"\"\n",
    "    s=s.capitalize()\n",
    "    s=s.replace(\" w \",\"W-\")\n",
    "    s=s.replace(\" rg \",\" RG \")\n",
    "    s=s.replace(\"feynman\",\"Feynman\")\n",
    "    s=s.replace(\" y \",\"Y\")\n",
    "    s=s.replace(\" x \",\"X\")\n",
    "    s=s.replace(\"hamilton jacobi\",\"Hamilton-Jacobi\")\n",
    "    s=s.replace(\"klt\",\"KLT\")\n",
    "    s=s.replace(\"cft\",\"CFT\")\n",
    "    s=s.replace(\" ads \",\" Ads \")\n",
    "    s=s.replace(\"sachdev ye kitaev\",\"Sachdev-Ye-Kitaev\")\n",
    "    s=s.replace(\"klebanov strassler\",\"Klebanov-Strassler\")\n",
    "    s=s.replace(\"wilson\",\"Wilson\")\n",
    "    s=s.replace(\"gribov\",\"Gribov\")\n",
    "    s=s.replace(\"zwanziger\",\"Zwanziger\")\n",
    "    s=s.replace(\"brst\",\"BRST\")\n",
    "    s=s.replace(\"coulomb\",\"Coulomb\")\n",
    "    s=s.replace(\"dirac\",\"Dirac\")\n",
    "    s=s.replace(\"d brane\",\"d-brane\")\n",
    "    s=s.replace(\"p brane\",\"p-brane\")\n",
    "    s=s.replace(\"chern simons\",\"Chern-Simons\")\n",
    "    s=s.replace(\"cardy verlinde\",\"Cardy-Verlinde\")\n",
    "    s=s.replace(\"gl \",\"GL-\")\n",
    "    s=s.replace(\" o \",\" O-\")\n",
    "    s=s.replace(\"m theory\",\"M-theory\")\n",
    "    s=s.replace(\"atiyah manton\",\"Atiyah-Manton\")\n",
    "    s=s.replace(\"space time\",\"space-time\")\n",
    "    s=s.replace(\"faddeev jackiw\",\"Faddeev-Jackiw\")\n",
    "    s=s.replace(\"skyrme faddeev\",\"Skyrme-Faddeev\")\n",
    "    s=s.replace(\"kazakov migdal kontsevich\",\"Kazakov-Migdal-Kontsevich\")\n",
    "    s=s.replace(\"knizhnik zamolodchikov\",\"Knizhnik-Zamolodchikov\")\n",
    "    s=s.replace(\" gr \",\" GR \")\n",
    "    s=s.replace(\" s matrix \",\" S-matrix \")\n",
    "    s=s.replace(\"planck\",\"Planck\")\n",
    "    s=s.replace(\" b \",\" B \")\n",
    "    s=s.replace(\" klein \",\" Klein \")\n",
    "    s=s.replace(\" abj \",\" ABJ \")\n",
    "    s=s.replace(\"yang mills\",\"Yang-Mills\")\n",
    "    s=s.replace(\" brans dicke \",\" Brans-Dicke \")\n",
    "    s=s.replace(\" sym \",\" SYM \")\n",
    "    s=s.replace(\" iib \",\" IIB \")\n",
    "    s=s.replace(\" iia \",\" IIA \")\n",
    "    s=s.replace(\" casimir \",\" Casimir \")\n",
    "    s=s.replace(\" pp wave \",\" $pp$-wave \")\n",
    "    s=s.replace(\" born infeld \",\" Born-Infeld \")\n",
    "    s=s.replace(\" birkhoff \",\" Birkhoff \")\n",
    "    s=s.replace(\" kazakov migdal \",\" Kazakov-Migdal \")\n",
    "    s=s.replace(\" : \", \": \")\n",
    "    s=s.replace(\" , \", \", \")\n",
    "    s=s.replace(\" / \",\"/\")\n",
    "    return s"
   ]
  },
  {
   "cell_type": "code",
   "execution_count": 173,
   "metadata": {},
   "outputs": [],
   "source": [
    "import re\n",
    "out_final=re.split(r\"[#]\", out)\n",
    "out_final = [string[1:-1] for string in out_final]\n",
    "out_final = [manipulate_string_title(string) for string in out_final][1:-1]"
   ]
  },
  {
   "cell_type": "code",
   "execution_count": 175,
   "metadata": {
    "collapsed": true
   },
   "outputs": [],
   "source": [
    "with open('titles_out', 'w') as f:\n",
    "    for item in out_final:\n",
    "        f.write(\"%s\\n\" % item)"
   ]
  }
 ],
 "metadata": {
  "kernelspec": {
   "display_name": "Python 2",
   "language": "python",
   "name": "python2"
  },
  "language_info": {
   "codemirror_mode": {
    "name": "ipython",
    "version": 2
   },
   "file_extension": ".py",
   "mimetype": "text/x-python",
   "name": "python",
   "nbconvert_exporter": "python",
   "pygments_lexer": "ipython2",
   "version": "2.7.13"
  }
 },
 "nbformat": 4,
 "nbformat_minor": 2
}
